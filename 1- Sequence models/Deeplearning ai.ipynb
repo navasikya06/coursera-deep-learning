{
 "cells": [
  {
   "cell_type": "markdown",
   "metadata": {},
   "source": [
    "Deep learning - training neural network\n",
    "\n",
    "1. Neural network?\n",
    "Neuron is the function that maps x to y\n",
    "Neural network is the combination of neurons that map x to y\n",
    "\n",
    "- Convolutional neural network - CNN - image applications\n",
    "- Recurrent neural network - RNN - Sequence data (audio)\n",
    "\n",
    "Supervised learning - online advertisign, computer vision, autonomous vehicle\n",
    "ReLU - rectified linear unit (zero line up to linear line)\n",
    "Audio/image - unstructured data\n",
    "\n",
    "(Support vector machine\n",
    "Logistic regression)\n",
    "\n",
    "2. How to improve?\n",
    "Bigger network or more data\n",
    "Algorithm - sigmoid function to Relu function - better for gradient descent\n",
    "\n",
    "Week 1 - Basic \n",
    "Week 2 - Forward propagation\n",
    "Week 3 - Hidden layer neural network\n",
    "\n",
    "Geoffrey Hinton - brain and psychology - neural nets\n"
   ]
  },
  {
   "cell_type": "markdown",
   "metadata": {},
   "source": [
    "Week 2\n",
    "\n",
    "1. General:\n",
    "Not for loop\n",
    "Forward/backward for/propagation\n",
    "\n",
    "2. Logistic regression:\n",
    "Logistic regression - algorithm for binary classification\n",
    "Image - cat or not cat\n",
    "64 pixel - 3 matrices 64x64 for RGB\n",
    "x - matrix, n - dimension of x\n",
    "\n",
    "3. Computation graph:\n",
    "Computation graph - forward, backward\n",
    "Backward - derivative\n",
    "\n",
    "4. Gradient descent:\n",
    "Gradient descent on m examples\n",
    "\n",
    "5. Vectorization:\n",
    "Avoid for loop\n",
    "np.dot(a,b)\n",
    "\n",
    "Vectorizing logistic regression - derivative\n",
    "\n",
    "6. Broadcasting:\n",
    "Tips to find bugs\n",
    "Only works when one of the dimensions is 1 or when 1 dimension is compatible\n",
    "a = np.randoom.randit(5,1)\n",
    "\n",
    "7. Quiz:\n",
    "(row, column)\n",
    "Dot product: row of a, column of b (column a = row b)\n",
    "Neuron: linear function with all weights, then activation function (sigmoid, ReLu)\n",
    "Logistic loss\n",
    "\n"
   ]
  }
 ],
 "metadata": {
  "kernelspec": {
   "display_name": "Python 3",
   "language": "python",
   "name": "python3"
  },
  "language_info": {
   "codemirror_mode": {
    "name": "ipython",
    "version": 3
   },
   "file_extension": ".py",
   "mimetype": "text/x-python",
   "name": "python",
   "nbconvert_exporter": "python",
   "pygments_lexer": "ipython3",
   "version": "3.7.4"
  }
 },
 "nbformat": 4,
 "nbformat_minor": 2
}
